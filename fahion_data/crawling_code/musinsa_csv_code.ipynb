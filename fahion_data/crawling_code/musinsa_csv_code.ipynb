{
 "cells": [
  {
   "cell_type": "code",
   "execution_count": 2,
   "metadata": {},
   "outputs": [],
   "source": [
    "from bs4 import BeautifulSoup\n",
    "import csv"
   ]
  },
  {
   "cell_type": "code",
   "execution_count": 3,
   "metadata": {},
   "outputs": [
    {
     "name": "stdout",
     "output_type": "stream",
     "text": [
      "데이터가 musinsa_minidress_winter.csv에 저장되었습니다.\n"
     ]
    }
   ],
   "source": [
    "from selenium import webdriver\n",
    "from selenium.webdriver.chrome.service import Service\n",
    "from webdriver_manager.chrome import ChromeDriverManager\n",
    "from selenium.webdriver.common.by import By\n",
    "from selenium.webdriver.support.ui import WebDriverWait\n",
    "from selenium.webdriver.support import expected_conditions as EC\n",
    "\n",
    "import time\n",
    "import ssl\n",
    "chrome_options = webdriver.ChromeOptions()\n",
    "chrome_options.add_argument(\"window-size=1920x1080\")\n",
    "driver = webdriver.Chrome(service=Service(ChromeDriverManager().install()), options=chrome_options)\n",
    "driver.implicitly_wait(3)\n",
    "ssl._create_default_https_context = ssl._create_unverified_context\n",
    "\n",
    "driver.get(\"https://www.musinsa.com/category/100001?gf=A&attribute=31%5E364\")\n",
    "\n",
    "# 대기 설정\n",
    "wait = WebDriverWait(driver, 10)\n",
    "\n",
    "# 데이터 저장 리스트 초기화\n",
    "data = []\n",
    "seen_items = set()  # 중복 방지용\n",
    "\n",
    "# 스크롤 동작 반복\n",
    "SCROLL_PAUSE_TIME = 2\n",
    "count = 0\n",
    "\n",
    "while count < 100:  # 최대 100개 데이터 수집\n",
    "    # HTML 추출\n",
    "    html = driver.page_source\n",
    "    soup = BeautifulSoup(html, 'html.parser')\n",
    "    products = soup.select('a.gtm-view-item-list')\n",
    "\n",
    "    for product in products:\n",
    "        if count >= 100:  # 100개 초과 시 종료\n",
    "            break\n",
    "\n",
    "        # 상품 고유 식별자\n",
    "        item_id = product['href'] if 'href' in product.attrs else None\n",
    "        if item_id and item_id not in seen_items:\n",
    "            seen_items.add(item_id)  # 중복 방지\n",
    "\n",
    "            # 브랜드명 추출\n",
    "            brand_name = product['data-brand-id'] if 'data-brand-id' in product.attrs else \"N/A\"\n",
    "\n",
    "            # 상품명 및 이미지 링크 추출\n",
    "            image = product.select_one('img')\n",
    "            product_name = image['alt'] if image and 'alt' in image.attrs else \"N/A\"\n",
    "            image_link = image['src'] if image and 'src' in image.attrs else \"N/A\"\n",
    "\n",
    "            # 데이터 저장\n",
    "            data.append([\"원피스\", \"미니원피스\", \"여성\", \"겨울\", brand_name, product_name, image_link])\n",
    "            count += 1\n",
    "    \n",
    "    # 스크롤 내리기\n",
    "    driver.execute_script(\"window.scrollTo(0, document.body.scrollHeight);\")\n",
    "    time.sleep(SCROLL_PAUSE_TIME)\n",
    "\n",
    "# 드라이버 종료\n",
    "driver.quit()\n",
    "\n",
    "# CSV 파일로 저장\n",
    "file_path = 'musinsa_minidress_winter.csv'\n",
    "with open(file_path, mode='w', newline='', encoding='utf-8') as file:\n",
    "    writer = csv.writer(file)\n",
    "    # 헤더 작성\n",
    "    writer.writerow([\"대분류\", \"소분류\", \"성별\", \"계절\", \"브랜드명\", \"상품명\", \"이미지링크\"])\n",
    "    # 데이터 작성\n",
    "    writer.writerows(data)\n",
    "\n",
    "print(f\"데이터가 {file_path}에 저장되었습니다.\")"
   ]
  }
 ],
 "metadata": {
  "kernelspec": {
   "display_name": "cpy38",
   "language": "python",
   "name": "python3"
  },
  "language_info": {
   "codemirror_mode": {
    "name": "ipython",
    "version": 3
   },
   "file_extension": ".py",
   "mimetype": "text/x-python",
   "name": "python",
   "nbconvert_exporter": "python",
   "pygments_lexer": "ipython3",
   "version": "3.8.20"
  }
 },
 "nbformat": 4,
 "nbformat_minor": 2
}
